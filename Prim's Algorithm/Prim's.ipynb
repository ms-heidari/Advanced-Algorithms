{
 "cells": [
  {
   "cell_type": "markdown",
   "metadata": {
    "id": "N46kZYIf519x"
   },
   "source": [
    "We use adjacency matrix for modeling graph"
   ]
  },
  {
   "cell_type": "code",
   "execution_count": null,
   "metadata": {
    "id": "jKRe9j6V3jg-"
   },
   "outputs": [],
   "source": [
    "G = [\n",
    "      [0, 8, 5, 0, 0, 6],\n",
    "      [8, 0, 9, 11, 0, 0],\n",
    "      [5, 9, 0, 15, 10, 13],\n",
    "      [0, 11, 15, 0, 7, 0],\n",
    "      [0, 0, 10, 7, 0, 8],\n",
    "      [0, 0, 13, 0, 8, 0]\n",
    "    ]"
   ]
  },
  {
   "cell_type": "markdown",
   "metadata": {
    "id": "az1_7DMy6Pq2"
   },
   "source": [
    "Find MST using Prim's algorithm\n",
    "Returns adjacency matrix of mst (it creates this tree like directed trees)\n"
   ]
  },
  {
   "cell_type": "code",
   "execution_count": null,
   "metadata": {
    "id": "pPJmMKhh6WF9"
   },
   "outputs": [],
   "source": [
    "def prims(graph:list):\n",
    "  import math\n",
    "\n",
    "  mst = [[0 for _ in range(len(graph[i]))] for i in range(len(graph))]\n",
    "\n",
    "  selected_nodes = [False for _ in range(len(graph))]\n",
    "  selected_nodes[0] = True\n",
    "\n",
    "  while(not all(selected_nodes)):\n",
    "    minimum = math.inf\n",
    "    chosen_source = -1\n",
    "    chosen_destination = -1\n",
    "    for source in [i for i in range(len(graph)) if selected_nodes[i]]:\n",
    "      for destination in [i for i in range(len(graph[source])) if not selected_nodes[i] and graph[source][i]]:\n",
    "        if minimum > graph[source][destination]:\n",
    "          chosen_source, chosen_destination, minimum = source, destination, graph[source][destination]\n",
    "    if chosen_source == -1:\n",
    "      for i in range(len(selected_nodes)):\n",
    "        if not selected_nodes[i]:\n",
    "          selected_nodes[i] = True\n",
    "          break\n",
    "    else:\n",
    "      selected_nodes[chosen_destination] = True\n",
    "      mst[chosen_source][chosen_destination] = graph[chosen_source][chosen_destination]\n",
    "\n",
    "  return mst\n"
   ]
  },
  {
   "cell_type": "markdown",
   "metadata": {
    "id": "f2vSZFGAAmcK"
   },
   "source": [
    "Test Algorithm on Graph\n"
   ]
  },
  {
   "cell_type": "code",
   "execution_count": null,
   "metadata": {
    "id": "aniqE8GaApod"
   },
   "outputs": [],
   "source": [
    "mst = prims(G)"
   ]
  },
  {
   "cell_type": "code",
   "execution_count": null,
   "metadata": {
    "colab": {
     "base_uri": "https://localhost:8080/"
    },
    "id": "AxeuLZpAHZmh",
    "outputId": "3f82dbaf-8ac0-4e14-b30f-2fe35eded006"
   },
   "outputs": [
    {
     "name": "stdout",
     "output_type": "stream",
     "text": [
      "[[0, 8, 5, 0, 0, 6],\n",
      " [0, 0, 0, 0, 0, 0],\n",
      " [0, 0, 0, 0, 0, 0],\n",
      " [0, 0, 0, 0, 0, 0],\n",
      " [0, 0, 0, 7, 0, 0],\n",
      " [0, 0, 0, 0, 8, 0]]\n"
     ]
    }
   ],
   "source": [
    "from pprint import pprint\n",
    "pprint(mst)"
   ]
  },
  {
   "cell_type": "raw",
   "metadata": {},
   "source": [
    "ms.heidari  400422075"
   ]
  }
 ],
 "metadata": {
  "colab": {
   "collapsed_sections": [],
   "name": "Prim's.ipynb",
   "provenance": []
  },
  "kernelspec": {
   "display_name": "Python 3 (ipykernel)",
   "language": "python",
   "name": "python3"
  },
  "language_info": {
   "codemirror_mode": {
    "name": "ipython",
    "version": 3
   },
   "file_extension": ".py",
   "mimetype": "text/x-python",
   "name": "python",
   "nbconvert_exporter": "python",
   "pygments_lexer": "ipython3",
   "version": "3.8.8"
  }
 },
 "nbformat": 4,
 "nbformat_minor": 1
}
