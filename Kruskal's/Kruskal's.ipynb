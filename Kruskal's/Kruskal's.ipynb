{
 "cells": [
  {
   "cell_type": "markdown",
   "metadata": {
    "id": "znOqwcRYEwNh"
   },
   "source": [
    "We use adjacency matrix for modeling graph"
   ]
  },
  {
   "cell_type": "code",
   "execution_count": null,
   "metadata": {
    "id": "EvWxs-NVEcua"
   },
   "outputs": [],
   "source": [
    "G = [\n",
    "      [0, 8, 5, 0, 0, 6],\n",
    "      [8, 0, 9, 11, 0, 0],\n",
    "      [5, 9, 0, 15, 10, 13],\n",
    "      [0, 11, 15, 0, 7, 0],\n",
    "      [0, 0, 10, 7, 0, 8],\n",
    "      [0, 0, 13, 0, 8, 0]\n",
    "    ]"
   ]
  },
  {
   "cell_type": "markdown",
   "metadata": {
    "id": "v_3wlxcoJIe3"
   },
   "source": [
    "# Find MST using Kruskals algorithm"
   ]
  },
  {
   "cell_type": "code",
   "execution_count": null,
   "metadata": {
    "id": "A1v-90_tJMLq"
   },
   "outputs": [],
   "source": [
    "def kruskals(graph: list, is_directed=False):\n",
    "  # get out edges of graph from adjacency matrix\n",
    "    edges = [(graph[i][j], i, j) for i in range(len(graph)) for j in range(len(graph[i])) if graph[i][j]]\n",
    "    # sort edges based on their weight\n",
    "    edges.sort(key=lambda x: x[0])\n",
    "    #create mst adjacency matrix\n",
    "    mst = [[0 for _ in range(len(graph[i]))] for i in range(len(graph))]\n",
    "    mst_edge_count = 0\n",
    "    selected_nodes = [False for _ in range(len(graph))]\n",
    "    #loop overt sorted edges\n",
    "    for i in range(len(edges)):\n",
    "        edge = edges[i]\n",
    "        #check for cycle with new edge in mst\n",
    "        if selected_nodes[edge[1]] and selected_nodes[edge[2]]:\n",
    "            stack = [edge[1]]\n",
    "            visited = [False for _ in range(len(graph))]\n",
    "            is_cyclic = False\n",
    "            while len(stack):\n",
    "                node = stack.pop()\n",
    "                visited[node] = True\n",
    "                if node == edge[2]:\n",
    "                    is_cyclic = True\n",
    "                    break\n",
    "                for another_node in range(len(mst[node])):\n",
    "                    if mst[node][another_node] and not visited[another_node]:\n",
    "                        stack.append(another_node)\n",
    "            if is_cyclic:\n",
    "                continue\n",
    "        # add edge to the mst\n",
    "        selected_nodes[edge[1]] = selected_nodes[edge[2]] = True\n",
    "        mst[edge[1]][edge[2]] = edge[0]\n",
    "        if not is_directed:\n",
    "            mst[edge[2]][edge[1]] = edge[0]\n",
    "            mst_edge_count += 1\n",
    "            if mst_edge_count == len(graph) - 1:\n",
    "                break\n",
    "    return mst"
   ]
  },
  {
   "cell_type": "markdown",
   "metadata": {
    "id": "s_S6H0XoMUyq"
   },
   "source": [
    "Test Algorithm on Graph"
   ]
  },
  {
   "cell_type": "code",
   "execution_count": null,
   "metadata": {
    "id": "EcDuXy8FMYU5"
   },
   "outputs": [],
   "source": [
    "mst = kruskals(G)"
   ]
  },
  {
   "cell_type": "code",
   "execution_count": null,
   "metadata": {
    "colab": {
     "base_uri": "https://localhost:8080/"
    },
    "id": "uZAwv6iaRyI9",
    "outputId": "02637f69-4aa7-49c0-a365-a0d8f0915fca",
    "scrolled": true
   },
   "outputs": [
    {
     "name": "stdout",
     "output_type": "stream",
     "text": [
      "[[0, 8, 5, 0, 0, 6],\n",
      " [8, 0, 0, 0, 0, 0],\n",
      " [5, 0, 0, 0, 0, 0],\n",
      " [0, 0, 0, 0, 7, 0],\n",
      " [0, 0, 0, 7, 0, 8],\n",
      " [6, 0, 0, 0, 8, 0]]\n"
     ]
    }
   ],
   "source": [
    "from pprint import pprint\n",
    "pprint(mst)"
   ]
  },
  {
   "cell_type": "raw",
   "metadata": {},
   "source": [
    "# ms.heidari 400422075"
   ]
  }
 ],
 "metadata": {
  "colab": {
   "collapsed_sections": [],
   "name": "Kruskal's.ipynb",
   "provenance": []
  },
  "kernelspec": {
   "display_name": "Python 3 (ipykernel)",
   "language": "python",
   "name": "python3"
  },
  "language_info": {
   "codemirror_mode": {
    "name": "ipython",
    "version": 3
   },
   "file_extension": ".py",
   "mimetype": "text/x-python",
   "name": "python",
   "nbconvert_exporter": "python",
   "pygments_lexer": "ipython3",
   "version": "3.8.8"
  }
 },
 "nbformat": 4,
 "nbformat_minor": 1
}
