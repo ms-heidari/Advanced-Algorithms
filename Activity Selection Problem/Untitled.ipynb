{
 "cells": [
  {
   "cell_type": "code",
   "execution_count": 17,
   "id": "79844305",
   "metadata": {},
   "outputs": [],
   "source": [
    "def activity_selection(a, s, f, n):\n",
    "    A = [0]*n\n",
    "    A[1] = a[1]\n",
    "\n",
    "    k=1\n",
    "    iter = 1\n",
    "\n",
    "    for i in range(2, n+1):\n",
    "        if(s[i] >= f[k]):\n",
    "            #appending list A\n",
    "            iter = iter+1\n",
    "            A[iter] = a[i]\n",
    "            k=i\n",
    "\n",
    "    '''\n",
    "    Making first element of the list A (index 0) equal to iter\n",
    "    just to know the length of the list when used in different function.\n",
    "    '''\n",
    "    A[0] = iter;\n",
    "    return A"
   ]
  },
  {
   "cell_type": "code",
   "execution_count": 18,
   "id": "51bde968",
   "metadata": {},
   "outputs": [
    {
     "name": "stdout",
     "output_type": "stream",
     "text": [
      "2\n",
      "5\n",
      "1\n"
     ]
    }
   ],
   "source": [
    "#Lists staring from 1. Elements at index 0 are fake\n",
    "a = [0, 2, 3, 5, 1, 4]\n",
    "s = [0, 0, 1, 3, 4, 1]\n",
    "f = [0, 2, 3, 4, 6, 6]\n",
    "p = activity_selection(a, s, f, 5)\n",
    "\n",
    "#p[0] is the length upto which activities are stored\n",
    "for i in range(1, p[0]+1):\n",
    "    print(p[i])"
   ]
  },
  {
   "cell_type": "code",
   "execution_count": null,
   "id": "24238b3c",
   "metadata": {},
   "outputs": [],
   "source": []
  }
 ],
 "metadata": {
  "kernelspec": {
   "display_name": "Python 3 (ipykernel)",
   "language": "python",
   "name": "python3"
  },
  "language_info": {
   "codemirror_mode": {
    "name": "ipython",
    "version": 3
   },
   "file_extension": ".py",
   "mimetype": "text/x-python",
   "name": "python",
   "nbconvert_exporter": "python",
   "pygments_lexer": "ipython3",
   "version": "3.9.7"
  }
 },
 "nbformat": 4,
 "nbformat_minor": 5
}
